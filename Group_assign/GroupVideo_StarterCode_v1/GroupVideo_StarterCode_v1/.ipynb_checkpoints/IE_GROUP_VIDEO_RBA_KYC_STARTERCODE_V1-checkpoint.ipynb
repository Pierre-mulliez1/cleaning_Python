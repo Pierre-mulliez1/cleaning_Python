{
 "cells": [
  {
   "cell_type": "markdown",
   "metadata": {},
   "source": [
    "<img src=\"profile_manoelgadi.png\" width=100 height=100 align=\"right\">\n",
    "\n",
    "Author: Manoel Gadi\n",
    "\n",
    "Last revision: 19/July/2020"
   ]
  },
  {
   "cell_type": "markdown",
   "metadata": {},
   "source": [
    "---"
   ]
  },
  {
   "cell_type": "markdown",
   "metadata": {},
   "source": [
    "Welcome to the GROUP VIDEO starter code.\n",
    "\n",
    "Your group task is to record a video of 10 - 15 minutes CLEANING DATA and DEVELOPING 2 MODELS using the RBA_KYC_Accounts_ALL_Ids.xlsx dataset. You should use Pandas, Matplotlib and Scikit Learn (Sklearn) libraries only if possible. Your video should include:\n",
    "\n",
    "* A quick explanation of Pandas, Matplotlib and Sklearn, specially including their histories. (less than a minute)\n",
    "* A quick Exploratory Data Analysis of the data set used.\n",
    "* Using the EDA, explain the problems of data quality in this data set.\n",
    "* Research about data preparation with Python. Propose and implement ways to clean, input missing and prepare the data for modelling. (YOUR VIDEO SHOULD FOCUS IN THIS PART - 70-80% OF THE VIDEO SHOULD BE ABOUT DATA CLEANING AND DATA PREPARATION)\n",
    "* Then, develop one Regression model using rbaValue as target variable.  Remember to assess the model performance using an appropriate measure for regression. \n",
    "* Then, develop one binary Classification model using Risk_Description setting Risk_Description = Low as 0 and else 1 (Medium or High). Remember to assess your model performance using a appropriate measure for classification.\n",
    "\n",
    "ps. please, don't improve the model, you don't need to make good one, simply do a quick one! This exercise is about explaining, in a video lecture, how to prepare the data for modelling , not about making a good model .\n",
    "\n",
    "ps. You can apply any of the steps in the model development seing in the last class, but be coincious of time it may take to do it all, so avoid overcomplicating things.\n",
    "\n",
    "Please find below couple videos from previous years (different data set and different objective) and from which you'll also learn some Python ideas:\n",
    "\n",
    "* 2018 MBD01 Group E Variable Transformation - https://www.youtube.com/watch?v=j_0HQ2UF_L0\n",
    "* 2019 - Risk & Fraud Analytics - Scikit Learn & Lending Club - Group C - https://www.youtube.com/watch?v=oTmHMXsksM8"
   ]
  },
  {
   "cell_type": "markdown",
   "metadata": {},
   "source": [
    "---"
   ]
  },
  {
   "cell_type": "markdown",
   "metadata": {},
   "source": [
    "### Importing the database: RBA_KYC_Accounts_ALL_Ids.xlsx"
   ]
  },
  {
   "cell_type": "code",
   "execution_count": 1,
   "metadata": {},
   "outputs": [],
   "source": [
    "import pandas as pd\n",
    "df = pd.read_excel('RBA_KYC_Accounts_ALL_Ids.xlsx')"
   ]
  },
  {
   "cell_type": "code",
   "execution_count": 2,
   "metadata": {},
   "outputs": [],
   "source": [
    "df['Risk_Description'] = df['rba_grade_desc']\n",
    "df.drop(['rba_grade_desc'], axis = 1, inplace = True) "
   ]
  },
  {
   "cell_type": "markdown",
   "metadata": {},
   "source": [
    "## Checking some quick statistics"
   ]
  },
  {
   "cell_type": "code",
   "execution_count": 3,
   "metadata": {},
   "outputs": [
    {
     "data": {
      "text/html": [
       "<div>\n",
       "<style scoped>\n",
       "    .dataframe tbody tr th:only-of-type {\n",
       "        vertical-align: middle;\n",
       "    }\n",
       "\n",
       "    .dataframe tbody tr th {\n",
       "        vertical-align: top;\n",
       "    }\n",
       "\n",
       "    .dataframe thead th {\n",
       "        text-align: right;\n",
       "    }\n",
       "</style>\n",
       "<table border=\"1\" class=\"dataframe\">\n",
       "  <thead>\n",
       "    <tr style=\"text-align: right;\">\n",
       "      <th></th>\n",
       "      <th>org_code</th>\n",
       "      <th>branchCode</th>\n",
       "      <th>customerId</th>\n",
       "      <th>customerType</th>\n",
       "      <th>residentStatus</th>\n",
       "      <th>age_in_year</th>\n",
       "      <th>birthCountry</th>\n",
       "      <th>profession</th>\n",
       "      <th>companyType</th>\n",
       "      <th>lastUpdate</th>\n",
       "      <th>...</th>\n",
       "      <th>number_of_cash_dep_90_days</th>\n",
       "      <th>avg_cash_deposit_90_days</th>\n",
       "      <th>number_of_deposit_90_days</th>\n",
       "      <th>avg_of_dep_90_days</th>\n",
       "      <th>number_of_cash_wd_90_days</th>\n",
       "      <th>avg_of_cash_wd_90_days</th>\n",
       "      <th>number_of_wd_90_days</th>\n",
       "      <th>avg_of_wd_90_days</th>\n",
       "      <th>score_card_Desc</th>\n",
       "      <th>rbaValue</th>\n",
       "    </tr>\n",
       "  </thead>\n",
       "  <tbody>\n",
       "    <tr>\n",
       "      <th>count</th>\n",
       "      <td>224868.0</td>\n",
       "      <td>224868.000000</td>\n",
       "      <td>2.248680e+05</td>\n",
       "      <td>224868.000000</td>\n",
       "      <td>224868.000000</td>\n",
       "      <td>220153.000000</td>\n",
       "      <td>0.0</td>\n",
       "      <td>79748.000000</td>\n",
       "      <td>114574.000000</td>\n",
       "      <td>0.0</td>\n",
       "      <td>...</td>\n",
       "      <td>224868.000000</td>\n",
       "      <td>2.248680e+05</td>\n",
       "      <td>224868.000000</td>\n",
       "      <td>2.248680e+05</td>\n",
       "      <td>224868.000000</td>\n",
       "      <td>2.248680e+05</td>\n",
       "      <td>224868.000000</td>\n",
       "      <td>2.248680e+05</td>\n",
       "      <td>0.0</td>\n",
       "      <td>224868.000000</td>\n",
       "    </tr>\n",
       "    <tr>\n",
       "      <th>mean</th>\n",
       "      <td>1.0</td>\n",
       "      <td>448.451323</td>\n",
       "      <td>4.394503e+16</td>\n",
       "      <td>1.114418</td>\n",
       "      <td>1.021221</td>\n",
       "      <td>41.310575</td>\n",
       "      <td>NaN</td>\n",
       "      <td>18.309487</td>\n",
       "      <td>49.857577</td>\n",
       "      <td>NaN</td>\n",
       "      <td>...</td>\n",
       "      <td>0.491422</td>\n",
       "      <td>-1.113435e+03</td>\n",
       "      <td>1.131437</td>\n",
       "      <td>-3.540383e+03</td>\n",
       "      <td>0.254305</td>\n",
       "      <td>4.763851e+02</td>\n",
       "      <td>0.868518</td>\n",
       "      <td>2.450953e+03</td>\n",
       "      <td>NaN</td>\n",
       "      <td>17.624194</td>\n",
       "    </tr>\n",
       "    <tr>\n",
       "      <th>std</th>\n",
       "      <td>0.0</td>\n",
       "      <td>228.193308</td>\n",
       "      <td>2.349321e+16</td>\n",
       "      <td>0.318319</td>\n",
       "      <td>0.144122</td>\n",
       "      <td>16.000536</td>\n",
       "      <td>NaN</td>\n",
       "      <td>6.586481</td>\n",
       "      <td>6.736115</td>\n",
       "      <td>NaN</td>\n",
       "      <td>...</td>\n",
       "      <td>5.335240</td>\n",
       "      <td>3.028084e+04</td>\n",
       "      <td>19.713739</td>\n",
       "      <td>9.151602e+04</td>\n",
       "      <td>1.175586</td>\n",
       "      <td>2.028110e+04</td>\n",
       "      <td>12.373992</td>\n",
       "      <td>5.819818e+04</td>\n",
       "      <td>NaN</td>\n",
       "      <td>8.368345</td>\n",
       "    </tr>\n",
       "    <tr>\n",
       "      <th>min</th>\n",
       "      <td>1.0</td>\n",
       "      <td>201.000000</td>\n",
       "      <td>2.020028e+09</td>\n",
       "      <td>1.000000</td>\n",
       "      <td>1.000000</td>\n",
       "      <td>1.000000</td>\n",
       "      <td>NaN</td>\n",
       "      <td>1.000000</td>\n",
       "      <td>1.000000</td>\n",
       "      <td>NaN</td>\n",
       "      <td>...</td>\n",
       "      <td>0.000000</td>\n",
       "      <td>-5.482044e+06</td>\n",
       "      <td>0.000000</td>\n",
       "      <td>-1.654371e+07</td>\n",
       "      <td>0.000000</td>\n",
       "      <td>0.000000e+00</td>\n",
       "      <td>0.000000</td>\n",
       "      <td>0.000000e+00</td>\n",
       "      <td>NaN</td>\n",
       "      <td>4.080000</td>\n",
       "    </tr>\n",
       "    <tr>\n",
       "      <th>25%</th>\n",
       "      <td>1.0</td>\n",
       "      <td>208.000000</td>\n",
       "      <td>2.070207e+16</td>\n",
       "      <td>1.000000</td>\n",
       "      <td>1.000000</td>\n",
       "      <td>31.000000</td>\n",
       "      <td>NaN</td>\n",
       "      <td>20.000000</td>\n",
       "      <td>51.000000</td>\n",
       "      <td>NaN</td>\n",
       "      <td>...</td>\n",
       "      <td>0.000000</td>\n",
       "      <td>0.000000e+00</td>\n",
       "      <td>0.000000</td>\n",
       "      <td>0.000000e+00</td>\n",
       "      <td>0.000000</td>\n",
       "      <td>0.000000e+00</td>\n",
       "      <td>0.000000</td>\n",
       "      <td>0.000000e+00</td>\n",
       "      <td>NaN</td>\n",
       "      <td>13.330000</td>\n",
       "    </tr>\n",
       "    <tr>\n",
       "      <th>50%</th>\n",
       "      <td>1.0</td>\n",
       "      <td>401.000000</td>\n",
       "      <td>4.011205e+16</td>\n",
       "      <td>1.000000</td>\n",
       "      <td>1.000000</td>\n",
       "      <td>41.000000</td>\n",
       "      <td>NaN</td>\n",
       "      <td>20.000000</td>\n",
       "      <td>51.000000</td>\n",
       "      <td>NaN</td>\n",
       "      <td>...</td>\n",
       "      <td>0.000000</td>\n",
       "      <td>0.000000e+00</td>\n",
       "      <td>0.000000</td>\n",
       "      <td>0.000000e+00</td>\n",
       "      <td>0.000000</td>\n",
       "      <td>0.000000e+00</td>\n",
       "      <td>0.000000</td>\n",
       "      <td>0.000000e+00</td>\n",
       "      <td>NaN</td>\n",
       "      <td>16.530000</td>\n",
       "    </tr>\n",
       "    <tr>\n",
       "      <th>75%</th>\n",
       "      <td>1.0</td>\n",
       "      <td>701.000000</td>\n",
       "      <td>7.012410e+16</td>\n",
       "      <td>1.000000</td>\n",
       "      <td>1.000000</td>\n",
       "      <td>52.000000</td>\n",
       "      <td>NaN</td>\n",
       "      <td>21.000000</td>\n",
       "      <td>51.000000</td>\n",
       "      <td>NaN</td>\n",
       "      <td>...</td>\n",
       "      <td>0.000000</td>\n",
       "      <td>0.000000e+00</td>\n",
       "      <td>0.000000</td>\n",
       "      <td>0.000000e+00</td>\n",
       "      <td>0.000000</td>\n",
       "      <td>0.000000e+00</td>\n",
       "      <td>0.000000</td>\n",
       "      <td>0.000000e+00</td>\n",
       "      <td>NaN</td>\n",
       "      <td>21.330000</td>\n",
       "    </tr>\n",
       "    <tr>\n",
       "      <th>max</th>\n",
       "      <td>1.0</td>\n",
       "      <td>805.000000</td>\n",
       "      <td>8.052929e+16</td>\n",
       "      <td>2.000000</td>\n",
       "      <td>2.000000</td>\n",
       "      <td>119.000000</td>\n",
       "      <td>NaN</td>\n",
       "      <td>39.000000</td>\n",
       "      <td>100.000000</td>\n",
       "      <td>NaN</td>\n",
       "      <td>...</td>\n",
       "      <td>1267.000000</td>\n",
       "      <td>0.000000e+00</td>\n",
       "      <td>3292.000000</td>\n",
       "      <td>5.867291e+05</td>\n",
       "      <td>78.000000</td>\n",
       "      <td>8.394000e+06</td>\n",
       "      <td>2858.000000</td>\n",
       "      <td>9.942530e+06</td>\n",
       "      <td>NaN</td>\n",
       "      <td>100.000000</td>\n",
       "    </tr>\n",
       "  </tbody>\n",
       "</table>\n",
       "<p>8 rows × 32 columns</p>\n",
       "</div>"
      ],
      "text/plain": [
       "       org_code     branchCode    customerId   customerType  residentStatus  \\\n",
       "count  224868.0  224868.000000  2.248680e+05  224868.000000   224868.000000   \n",
       "mean        1.0     448.451323  4.394503e+16       1.114418        1.021221   \n",
       "std         0.0     228.193308  2.349321e+16       0.318319        0.144122   \n",
       "min         1.0     201.000000  2.020028e+09       1.000000        1.000000   \n",
       "25%         1.0     208.000000  2.070207e+16       1.000000        1.000000   \n",
       "50%         1.0     401.000000  4.011205e+16       1.000000        1.000000   \n",
       "75%         1.0     701.000000  7.012410e+16       1.000000        1.000000   \n",
       "max         1.0     805.000000  8.052929e+16       2.000000        2.000000   \n",
       "\n",
       "         age_in_year  birthCountry    profession    companyType  lastUpdate  \\\n",
       "count  220153.000000           0.0  79748.000000  114574.000000         0.0   \n",
       "mean       41.310575           NaN     18.309487      49.857577         NaN   \n",
       "std        16.000536           NaN      6.586481       6.736115         NaN   \n",
       "min         1.000000           NaN      1.000000       1.000000         NaN   \n",
       "25%        31.000000           NaN     20.000000      51.000000         NaN   \n",
       "50%        41.000000           NaN     20.000000      51.000000         NaN   \n",
       "75%        52.000000           NaN     21.000000      51.000000         NaN   \n",
       "max       119.000000           NaN     39.000000     100.000000         NaN   \n",
       "\n",
       "           ...        number_of_cash_dep_90_days  avg_cash_deposit_90_days  \\\n",
       "count      ...                     224868.000000              2.248680e+05   \n",
       "mean       ...                          0.491422             -1.113435e+03   \n",
       "std        ...                          5.335240              3.028084e+04   \n",
       "min        ...                          0.000000             -5.482044e+06   \n",
       "25%        ...                          0.000000              0.000000e+00   \n",
       "50%        ...                          0.000000              0.000000e+00   \n",
       "75%        ...                          0.000000              0.000000e+00   \n",
       "max        ...                       1267.000000              0.000000e+00   \n",
       "\n",
       "       number_of_deposit_90_days  avg_of_dep_90_days  \\\n",
       "count              224868.000000        2.248680e+05   \n",
       "mean                    1.131437       -3.540383e+03   \n",
       "std                    19.713739        9.151602e+04   \n",
       "min                     0.000000       -1.654371e+07   \n",
       "25%                     0.000000        0.000000e+00   \n",
       "50%                     0.000000        0.000000e+00   \n",
       "75%                     0.000000        0.000000e+00   \n",
       "max                  3292.000000        5.867291e+05   \n",
       "\n",
       "       number_of_cash_wd_90_days  avg_of_cash_wd_90_days  \\\n",
       "count              224868.000000            2.248680e+05   \n",
       "mean                    0.254305            4.763851e+02   \n",
       "std                     1.175586            2.028110e+04   \n",
       "min                     0.000000            0.000000e+00   \n",
       "25%                     0.000000            0.000000e+00   \n",
       "50%                     0.000000            0.000000e+00   \n",
       "75%                     0.000000            0.000000e+00   \n",
       "max                    78.000000            8.394000e+06   \n",
       "\n",
       "       number_of_wd_90_days  avg_of_wd_90_days  score_card_Desc       rbaValue  \n",
       "count         224868.000000       2.248680e+05              0.0  224868.000000  \n",
       "mean               0.868518       2.450953e+03              NaN      17.624194  \n",
       "std               12.373992       5.819818e+04              NaN       8.368345  \n",
       "min                0.000000       0.000000e+00              NaN       4.080000  \n",
       "25%                0.000000       0.000000e+00              NaN      13.330000  \n",
       "50%                0.000000       0.000000e+00              NaN      16.530000  \n",
       "75%                0.000000       0.000000e+00              NaN      21.330000  \n",
       "max             2858.000000       9.942530e+06              NaN     100.000000  \n",
       "\n",
       "[8 rows x 32 columns]"
      ]
     },
     "execution_count": 3,
     "metadata": {},
     "output_type": "execute_result"
    }
   ],
   "source": [
    "df.describe()"
   ]
  },
  {
   "cell_type": "markdown",
   "metadata": {},
   "source": [
    "## Creating the variable creationDate_indays"
   ]
  },
  {
   "cell_type": "code",
   "execution_count": 4,
   "metadata": {},
   "outputs": [
    {
     "data": {
      "text/plain": [
       "0   1295 days\n",
       "1   1860 days\n",
       "2   1860 days\n",
       "3   1860 days\n",
       "4   1860 days\n",
       "Name: creationDate_indays, dtype: timedelta64[ns]"
      ]
     },
     "execution_count": 4,
     "metadata": {},
     "output_type": "execute_result"
    }
   ],
   "source": [
    "df['creationDate_indays'] = df['creationDate'].astype('datetime64[ns]').max()-df['creationDate'].astype('datetime64[ns]') \n",
    "df['creationDate_indays'].head()"
   ]
  },
  {
   "cell_type": "markdown",
   "metadata": {},
   "source": [
    "## Creating the variable date of birth"
   ]
  },
  {
   "cell_type": "code",
   "execution_count": 5,
   "metadata": {},
   "outputs": [],
   "source": [
    "def f(end):\n",
    "    global max_date\n",
    "    try:\n",
    "        r = relativedelta(max_date, end) \n",
    "        return(r.years)\n",
    "    except:\n",
    "        return(0)\n",
    "#    r = relativedelta(pd.to_datetime('now'), end) \n",
    "#    return '{} years {} days'.format(r.years, r.days)"
   ]
  },
  {
   "cell_type": "code",
   "execution_count": 6,
   "metadata": {},
   "outputs": [
    {
     "data": {
      "text/plain": [
       "0    0\n",
       "1    0\n",
       "2    0\n",
       "3    0\n",
       "4    0\n",
       "Name: age, dtype: int64"
      ]
     },
     "execution_count": 6,
     "metadata": {},
     "output_type": "execute_result"
    }
   ],
   "source": [
    "max_date = df['dateOfBirth'].astype('datetime64[ns]').max()\n",
    "df['age'] = df['dateOfBirth'].astype('datetime64[ns]').apply(f)\n",
    "df['age'].head()"
   ]
  },
  {
   "cell_type": "markdown",
   "metadata": {},
   "source": [
    "## Checking for percentage (%) of missing values"
   ]
  },
  {
   "cell_type": "code",
   "execution_count": 7,
   "metadata": {},
   "outputs": [
    {
     "data": {
      "text/plain": [
       "org_code                        0.000000\n",
       "branchCode                      0.000000\n",
       "customerId                      0.000000\n",
       "fullaccount                     0.000000\n",
       "customerType                    0.000000\n",
       "creationDate                    0.000000\n",
       "onboarding                      0.000000\n",
       "residentStatus                  0.000000\n",
       "residentCountry                 0.265044\n",
       "nationalityOriginal             1.529342\n",
       "extraNationality               99.202643\n",
       "dateOfBirth                     2.096786\n",
       "age_in_year                     2.096786\n",
       "birthCountry                  100.000000\n",
       "birthPlace                      9.713254\n",
       "profession                     64.535639\n",
       "companyType                    49.048331\n",
       "giinCode                       99.994664\n",
       "lastUpdate                    100.000000\n",
       "status                          0.000000\n",
       "ledgerCode                      0.000000\n",
       "accountCurrency                 0.000000\n",
       "jointAccount                    0.000000\n",
       "IsBlackListed                   0.000000\n",
       "CUS_CLASS                       0.000000\n",
       "ECO_SEC                         0.000000\n",
       "TYPE_OF_DEP                     0.000000\n",
       "GENDER                         53.591885\n",
       "LEGAL_STA_CODE                  1.163349\n",
       "legal_Stat_desc               100.000000\n",
       "avg_last_10_days                0.000000\n",
       "avg_last_30_days                0.000000\n",
       "avg_last_90_days                0.000000\n",
       "number_of_cash_dep_90_days      0.000000\n",
       "avg_cash_deposit_90_days        0.000000\n",
       "number_of_deposit_90_days       0.000000\n",
       "avg_of_dep_90_days              0.000000\n",
       "number_of_cash_wd_90_days       0.000000\n",
       "avg_of_cash_wd_90_days          0.000000\n",
       "number_of_wd_90_days            0.000000\n",
       "avg_of_wd_90_days               0.000000\n",
       "date_of_assessment              0.000000\n",
       "rbaGradeAbrv                    0.000000\n",
       "score_card                      0.000000\n",
       "score_card_Desc               100.000000\n",
       "rbaValue                        0.000000\n",
       "Risk_Description                0.000000\n",
       "creationDate_indays             0.000000\n",
       "age                             0.000000\n",
       "dtype: float64"
      ]
     },
     "execution_count": 7,
     "metadata": {},
     "output_type": "execute_result"
    }
   ],
   "source": [
    "100*df.isnull().sum()/df.isnull().count()"
   ]
  },
  {
   "cell_type": "markdown",
   "metadata": {},
   "source": [
    "## Making some histograms"
   ]
  },
  {
   "cell_type": "code",
   "execution_count": 8,
   "metadata": {},
   "outputs": [
    {
     "data": {
      "image/png": "[encoded data removed]",
      "text/plain": [
       "<Figure size 864x864 with 36 Axes>"
      ]
     },
     "metadata": {
      "needs_background": "light"
     },
     "output_type": "display_data"
    }
   ],
   "source": [
    "%matplotlib inline\n",
    "import matplotlib.pylab as plt\n",
    "attribute_columns = list(df.columns)\n",
    "if True:\n",
    "    fontsize = 10\n",
    "    fig = df[attribute_columns].hist(bins = 20, figsize = (12, 12),\n",
    "                                       xlabelsize=fontsize,\n",
    "                                       ylabelsize=fontsize)\n",
    "    for x in fig.ravel():\n",
    "        x.title.set_size(fontsize)\n",
    "else:\n",
    "    nrows = (len(attribute_columns)+1) // 2\n",
    "    plt.figure(figsize=(12,25))\n",
    "    for i in range(len(attribute_columns)):\n",
    "        name = attribute_columns[i]\n",
    "        plt.subplot(nrows,2,i+1)\n",
    "        data[name].hist()\n",
    "        plt.title(name, fontsize=14)\n",
    "    \n",
    "plt.show()"
   ]
  },
  {
   "cell_type": "markdown",
   "metadata": {},
   "source": [
    "### Now, is your group turn: \n",
    "..."
   ]
  },
  {
   "cell_type": "markdown",
   "metadata": {},
   "source": [
    "---"
   ]
  }
 ],
 "metadata": {
  "kernelspec": {
   "display_name": "Python 3",
   "language": "python",
   "name": "python3"
  },
  "language_info": {
   "codemirror_mode": {
    "name": "ipython",
    "version": 3
   },
   "file_extension": ".py",
   "mimetype": "text/x-python",
   "name": "python",
   "nbconvert_exporter": "python",
   "pygments_lexer": "ipython3",
   "version": "3.7.6"
  }
 },
 "nbformat": 4,
 "nbformat_minor": 2
}
